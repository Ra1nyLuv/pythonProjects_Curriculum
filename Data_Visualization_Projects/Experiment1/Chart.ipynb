{
 "cells": [
  {
   "cell_type": "code",
   "execution_count": 11,
   "id": "8fa07b32-73f9-407c-b385-faaff5a5ebcc",
   "metadata": {},
   "outputs": [],
   "source": [
    "from pyecharts import options as opts\n",
    "from pyecharts.charts import Bar\n",
    "from pyecharts.faker import Faker\n",
    "\n",
    "c = (\n",
    "    Bar()\n",
    "    .add_xaxis(Faker.choose())\n",
    "    .add_yaxis(\"商家A\", Faker.values())\n",
    "    .add_yaxis(\"商家B\", Faker.values())\n",
    "    .set_global_opts(\n",
    "        title_opts=opts.TitleOpts(title=\"Bar-显示 ToolBox\"),\n",
    "        toolbox_opts=opts.ToolboxOpts(),\n",
    "        legend_opts=opts.LegendOpts(is_show=False),\n",
    "    )\n",
    "    .render(\"bar_toolbox.html\")\n",
    ")\n"
   ]
  },
  {
   "cell_type": "code",
   "execution_count": 15,
   "id": "49fb55e3-3317-4977-9f9e-394425cf2d7d",
   "metadata": {},
   "outputs": [],
   "source": [
    "from pyecharts import options as opts\n",
    "from pyecharts.charts import Bar\n",
    "from pyecharts.faker import Faker\n",
    "\n",
    "sub_title = \"陈俊霖 - 202212904506\"  \n",
    "\n",
    "c = (\n",
    "    Bar()\n",
    "    .add_xaxis(Faker.choose())  \n",
    "    .add_yaxis(\"商家A\", Faker.values(), label_opts=opts.LabelOpts(position=\"right\"))  \n",
    "    .add_yaxis(\"商家B\", Faker.values(), label_opts=opts.LabelOpts(position=\"right\")) \n",
    "    .set_global_opts(\n",
    "        title_opts=opts.TitleOpts(title=\"班级\", subtitle=sub_title, pos_left=\"center\"),  \n",
    "        toolbox_opts=opts.ToolboxOpts(),  \n",
    "        legend_opts=opts.LegendOpts(is_show=False),  \n",
    "        datazoom_opts=opts.DataZoomOpts(),  \n",
    "        xaxis_opts=opts.AxisOpts(\n",
    "            name=\"商品类别\",  \n",
    "            axislabel_opts=opts.LabelOpts(rotate=30)  \n",
    "        ),  \n",
    "        tooltip_opts=opts.TooltipOpts(trigger=\"axis\", axis_pointer_type=\"shadow\"), \n",
    "        yaxis_opts=opts.AxisOpts(name=\"销售额\"), \n",
    "    )\n",
    "    .set_series_opts(\n",
    "        label_opts=opts.LabelOpts(is_show=True)  \n",
    "    )\n",
    "    .render(\"bar_toolbox_fixed.html\")  \n",
    ")"
   ]
  },
  {
   "cell_type": "code",
   "execution_count": null,
   "id": "341ee74a-2fed-43a9-87e7-ff276a4361cf",
   "metadata": {},
   "outputs": [],
   "source": []
  },
  {
   "cell_type": "code",
   "execution_count": null,
   "id": "1d060e1f-7b8a-4825-8e0a-2f0919734f06",
   "metadata": {},
   "outputs": [],
   "source": []
  }
 ],
 "metadata": {
  "kernelspec": {
   "display_name": "Python 3 (ipykernel)",
   "language": "python",
   "name": "python3"
  },
  "language_info": {
   "codemirror_mode": {
    "name": "ipython",
    "version": 3
   },
   "file_extension": ".py",
   "mimetype": "text/x-python",
   "name": "python",
   "nbconvert_exporter": "python",
   "pygments_lexer": "ipython3",
   "version": "3.12.3"
  }
 },
 "nbformat": 4,
 "nbformat_minor": 5
}
